{
 "cells": [
  {
   "cell_type": "code",
   "execution_count": 52,
   "metadata": {},
   "outputs": [
    {
     "name": "stdout",
     "output_type": "stream",
     "text": [
      "   age  sex  cp trestbps chol fbs restecg thalach exang  oldpeak slope ca  \\\n",
      "0   28    1   2      130  132   0       2     185     0      0.0     ?  ?   \n",
      "1   29    1   2      120  243   0       0     160     0      0.0     ?  ?   \n",
      "2   29    1   2      140    ?   0       0     170     0      0.0     ?  ?   \n",
      "3   30    0   1      170  237   0       1     170     0      0.0     ?  ?   \n",
      "4   31    0   2      100  219   0       1     150     0      0.0     ?  ?   \n",
      "\n",
      "  thal  num         \n",
      "0    ?           0  \n",
      "1    ?           0  \n",
      "2    ?           0  \n",
      "3    6           0  \n",
      "4    ?           0  \n"
     ]
    }
   ],
   "source": [
    "# importowanie niezbędnych pakietów \n",
    "import patsy\n",
    "import pandas as pd\n",
    "import matplotlib.pyplot as plt\n",
    "import numpy as np\n",
    "from sklearn.linear_model import LogisticRegression\n",
    "from sklearn import model_selection\n",
    "from sklearn import datasets, linear_model\n",
    "from sklearn.model_selection import train_test_split \n",
    "\n",
    "# odczyt dancyh przez funckcji describe() i head()\n",
    "df=pd.read_csv(\"D:\\\\Education\\\\3 rok AGH\\\\5 Semestr\\\\AiBD\\\\pandas_project\\\\laboratorium-lin-model-Matyiashchyk\\\\HEART.csv\")\n",
    "\n",
    "print(df.head())\n",
    "\n"
   ]
  },
  {
   "cell_type": "code",
   "execution_count": 53,
   "metadata": {},
   "outputs": [
    {
     "name": "stdout",
     "output_type": "stream",
     "text": [
      "     age  sex  cp trestbps chol fbs restecg thalach exang  oldpeak slope   ca  \\\n",
      "0     28    1   2      130  132   0       2     185     0      0.0   NaN  NaN   \n",
      "1     29    1   2      120  243   0       0     160     0      0.0   NaN  NaN   \n",
      "2     29    1   2      140  NaN   0       0     170     0      0.0   NaN  NaN   \n",
      "3     30    0   1      170  237   0       1     170     0      0.0   NaN  NaN   \n",
      "4     31    0   2      100  219   0       1     150     0      0.0   NaN  NaN   \n",
      "..   ...  ...  ..      ...  ...  ..     ...     ...   ...      ...   ...  ...   \n",
      "289   52    1   4      160  331   0       0      94     1      2.5   NaN  NaN   \n",
      "290   54    0   3      130  294   0       1     100     1      0.0     2  NaN   \n",
      "291   56    1   4      155  342   1       0     150     1      3.0     2  NaN   \n",
      "292   58    0   2      180  393   0       0     110     1      1.0     2  NaN   \n",
      "293   65    1   4      130  275   0       1     115     1      1.0     2  NaN   \n",
      "\n",
      "    thal  num         \n",
      "0    NaN           0  \n",
      "1    NaN           0  \n",
      "2    NaN           0  \n",
      "3      6           0  \n",
      "4    NaN           0  \n",
      "..   ...         ...  \n",
      "289  NaN           1  \n",
      "290  NaN           1  \n",
      "291  NaN           1  \n",
      "292    7           1  \n",
      "293  NaN           1  \n",
      "\n",
      "[294 rows x 14 columns]\n"
     ]
    }
   ],
   "source": [
    "#Zamiana ? na NaN.\n",
    "df2 = df.replace('?', np.NaN) \n",
    "print(df2)"
   ]
  },
  {
   "cell_type": "code",
   "execution_count": 54,
   "metadata": {},
   "outputs": [
    {
     "name": "stdout",
     "output_type": "stream",
     "text": [
      "age             0\n",
      "sex             0\n",
      "cp              0\n",
      "trestbps        1\n",
      "chol           23\n",
      "fbs             8\n",
      "restecg         1\n",
      "thalach         1\n",
      "exang           1\n",
      "oldpeak         0\n",
      "slope         190\n",
      "ca            291\n",
      "thal          266\n",
      "num             0\n",
      "dtype: int64 age            0\n",
      "sex            0\n",
      "cp             0\n",
      "trestbps       1\n",
      "chol          23\n",
      "fbs            8\n",
      "restecg        1\n",
      "thalach        1\n",
      "exang          1\n",
      "oldpeak        0\n",
      "num            0\n",
      "dtype: int64      age  sex  cp trestbps chol fbs restecg thalach exang  oldpeak  num       \n",
      "0     28    1   2      130  132   0       2     185     0      0.0           0\n",
      "1     29    1   2      120  243   0       0     160     0      0.0           0\n",
      "3     30    0   1      170  237   0       1     170     0      0.0           0\n",
      "4     31    0   2      100  219   0       1     150     0      0.0           0\n",
      "5     32    0   2      105  198   0       0     165     0      0.0           0\n",
      "..   ...  ...  ..      ...  ...  ..     ...     ...   ...      ...         ...\n",
      "289   52    1   4      160  331   0       0      94     1      2.5           1\n",
      "290   54    0   3      130  294   0       1     100     1      0.0           1\n",
      "291   56    1   4      155  342   1       0     150     1      3.0           1\n",
      "292   58    0   2      180  393   0       0     110     1      1.0           1\n",
      "293   65    1   4      130  275   0       1     115     1      1.0           1\n",
      "\n",
      "[261 rows x 11 columns]\n"
     ]
    }
   ],
   "source": [
    "#Usuwanie wierszy i kolumn(3) zawierające puste dane NaN\n",
    "df3 = df2.dropna(axis = 'columns',how = 'all') # usuwa kolumny które skłądają się z wartości NaN\n",
    "\n",
    "df5 = df2.isna().sum()\n",
    "df3 = df2.drop(['slope', 'ca', 'thal'], axis = 1)\n",
    "df4 = df3.isna().sum()\n",
    "df_end = df3.dropna(axis = 0, how = 'any') # usuwamy wierszy które zawierają co najmniej 1 wartość NaN\n",
    "print(df5,df4, df_end)\n"
   ]
  },
  {
   "cell_type": "code",
   "execution_count": 68,
   "metadata": {},
   "outputs": [
    {
     "name": "stdout",
     "output_type": "stream",
     "text": [
      "0      0\n",
      "1      0\n",
      "3      0\n",
      "4      0\n",
      "5      0\n",
      "      ..\n",
      "289    1\n",
      "290    1\n",
      "291    1\n",
      "292    1\n",
      "293    1\n",
      "Name: num       , Length: 261, dtype: int64\n"
     ]
    }
   ],
   "source": [
    "# Zapisanie w foramcie dummy dla kolumn cp i restecg\n",
    "df_dummy = pd.get_dummies(df_end, columns=['cp', 'restecg'], drop_first=True)\n",
    "# print(df_dummy)\n",
    "print(df_dummy.iloc[:, 8])"
   ]
  },
  {
   "cell_type": "code",
   "execution_count": 70,
   "metadata": {},
   "outputs": [
    {
     "ename": "KeyError",
     "evalue": "'num'",
     "output_type": "error",
     "traceback": [
      "\u001b[1;31m---------------------------------------------------------------------------\u001b[0m",
      "\u001b[1;31mKeyError\u001b[0m                                  Traceback (most recent call last)",
      "File \u001b[1;32md:\\Education\\3 rok AGH\\5 Semestr\\AiBD\\pandas_project\\studysession\\lib\\site-packages\\pandas\\core\\indexes\\base.py:3800\u001b[0m, in \u001b[0;36mIndex.get_loc\u001b[1;34m(self, key, method, tolerance)\u001b[0m\n\u001b[0;32m   3799\u001b[0m \u001b[39mtry\u001b[39;00m:\n\u001b[1;32m-> 3800\u001b[0m     \u001b[39mreturn\u001b[39;00m \u001b[39mself\u001b[39;49m\u001b[39m.\u001b[39;49m_engine\u001b[39m.\u001b[39;49mget_loc(casted_key)\n\u001b[0;32m   3801\u001b[0m \u001b[39mexcept\u001b[39;00m \u001b[39mKeyError\u001b[39;00m \u001b[39mas\u001b[39;00m err:\n",
      "File \u001b[1;32md:\\Education\\3 rok AGH\\5 Semestr\\AiBD\\pandas_project\\studysession\\lib\\site-packages\\pandas\\_libs\\index.pyx:138\u001b[0m, in \u001b[0;36mpandas._libs.index.IndexEngine.get_loc\u001b[1;34m()\u001b[0m\n",
      "File \u001b[1;32md:\\Education\\3 rok AGH\\5 Semestr\\AiBD\\pandas_project\\studysession\\lib\\site-packages\\pandas\\_libs\\index.pyx:165\u001b[0m, in \u001b[0;36mpandas._libs.index.IndexEngine.get_loc\u001b[1;34m()\u001b[0m\n",
      "File \u001b[1;32mpandas\\_libs\\hashtable_class_helper.pxi:5745\u001b[0m, in \u001b[0;36mpandas._libs.hashtable.PyObjectHashTable.get_item\u001b[1;34m()\u001b[0m\n",
      "File \u001b[1;32mpandas\\_libs\\hashtable_class_helper.pxi:5753\u001b[0m, in \u001b[0;36mpandas._libs.hashtable.PyObjectHashTable.get_item\u001b[1;34m()\u001b[0m\n",
      "\u001b[1;31mKeyError\u001b[0m: 'num'",
      "\nThe above exception was the direct cause of the following exception:\n",
      "\u001b[1;31mKeyError\u001b[0m                                  Traceback (most recent call last)",
      "Cell \u001b[1;32mIn [70], line 1\u001b[0m\n\u001b[1;32m----> 1\u001b[0m df_train, df_test \u001b[39m=\u001b[39m train_test_split(df_dummy, test_size\u001b[39m=\u001b[39m\u001b[39m0.2\u001b[39m, random_state\u001b[39m=\u001b[39m\u001b[39m888\u001b[39m, stratify\u001b[39m=\u001b[39mdf_dummy[\u001b[39m'\u001b[39;49m\u001b[39mnum\u001b[39;49m\u001b[39m'\u001b[39;49m])\n\u001b[0;32m      4\u001b[0m \u001b[39mprint\u001b[39m(df_train\u001b[39m.\u001b[39mshape)\n\u001b[0;32m      5\u001b[0m \u001b[39mprint\u001b[39m(df_test\u001b[39m.\u001b[39mshape)\n",
      "File \u001b[1;32md:\\Education\\3 rok AGH\\5 Semestr\\AiBD\\pandas_project\\studysession\\lib\\site-packages\\pandas\\core\\frame.py:3805\u001b[0m, in \u001b[0;36mDataFrame.__getitem__\u001b[1;34m(self, key)\u001b[0m\n\u001b[0;32m   3803\u001b[0m \u001b[39mif\u001b[39;00m \u001b[39mself\u001b[39m\u001b[39m.\u001b[39mcolumns\u001b[39m.\u001b[39mnlevels \u001b[39m>\u001b[39m \u001b[39m1\u001b[39m:\n\u001b[0;32m   3804\u001b[0m     \u001b[39mreturn\u001b[39;00m \u001b[39mself\u001b[39m\u001b[39m.\u001b[39m_getitem_multilevel(key)\n\u001b[1;32m-> 3805\u001b[0m indexer \u001b[39m=\u001b[39m \u001b[39mself\u001b[39;49m\u001b[39m.\u001b[39;49mcolumns\u001b[39m.\u001b[39;49mget_loc(key)\n\u001b[0;32m   3806\u001b[0m \u001b[39mif\u001b[39;00m is_integer(indexer):\n\u001b[0;32m   3807\u001b[0m     indexer \u001b[39m=\u001b[39m [indexer]\n",
      "File \u001b[1;32md:\\Education\\3 rok AGH\\5 Semestr\\AiBD\\pandas_project\\studysession\\lib\\site-packages\\pandas\\core\\indexes\\base.py:3802\u001b[0m, in \u001b[0;36mIndex.get_loc\u001b[1;34m(self, key, method, tolerance)\u001b[0m\n\u001b[0;32m   3800\u001b[0m     \u001b[39mreturn\u001b[39;00m \u001b[39mself\u001b[39m\u001b[39m.\u001b[39m_engine\u001b[39m.\u001b[39mget_loc(casted_key)\n\u001b[0;32m   3801\u001b[0m \u001b[39mexcept\u001b[39;00m \u001b[39mKeyError\u001b[39;00m \u001b[39mas\u001b[39;00m err:\n\u001b[1;32m-> 3802\u001b[0m     \u001b[39mraise\u001b[39;00m \u001b[39mKeyError\u001b[39;00m(key) \u001b[39mfrom\u001b[39;00m \u001b[39merr\u001b[39;00m\n\u001b[0;32m   3803\u001b[0m \u001b[39mexcept\u001b[39;00m \u001b[39mTypeError\u001b[39;00m:\n\u001b[0;32m   3804\u001b[0m     \u001b[39m# If we have a listlike key, _check_indexing_error will raise\u001b[39;00m\n\u001b[0;32m   3805\u001b[0m     \u001b[39m#  InvalidIndexError. Otherwise we fall through and re-raise\u001b[39;00m\n\u001b[0;32m   3806\u001b[0m     \u001b[39m#  the TypeError.\u001b[39;00m\n\u001b[0;32m   3807\u001b[0m     \u001b[39mself\u001b[39m\u001b[39m.\u001b[39m_check_indexing_error(key)\n",
      "\u001b[1;31mKeyError\u001b[0m: 'num'"
     ]
    }
   ],
   "source": [
    "df_train, df_test = train_test_split(df_dummy, test_size=0.2, random_state=888, stratify=df_dummy[\"num\"])\n",
    "\n",
    "\n",
    "print(df_train.shape)\n",
    "print(df_test.shape)\n",
    "print()\n",
    "print(df_train['target'].value_counts(normalize=True))\n",
    "print()\n",
    "print(df_test['target'].value_counts(normalize=True))"
   ]
  }
 ],
 "metadata": {
  "kernelspec": {
   "display_name": "Python 3.10.7 ('studysession': venv)",
   "language": "python",
   "name": "python3"
  },
  "language_info": {
   "codemirror_mode": {
    "name": "ipython",
    "version": 3
   },
   "file_extension": ".py",
   "mimetype": "text/x-python",
   "name": "python",
   "nbconvert_exporter": "python",
   "pygments_lexer": "ipython3",
   "version": "3.10.7"
  },
  "orig_nbformat": 4,
  "vscode": {
   "interpreter": {
    "hash": "ceb151d88470a88e8aa0a6b9f10c7f620c1925e64bccaaaf9352aacfd55542f3"
   }
  }
 },
 "nbformat": 4,
 "nbformat_minor": 2
}
